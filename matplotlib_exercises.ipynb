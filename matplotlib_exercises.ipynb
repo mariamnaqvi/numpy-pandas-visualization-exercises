{
 "cells": [
  {
   "cell_type": "markdown",
   "metadata": {},
   "source": [
    "1. Use matplotlib to plot the following equation:\n",
    "\n",
    "y = x^2 - x + 2\n",
    "\n",
    "You'll need to write the code that generates the x and y points.\n",
    "\n",
    "Add an anotation for the point 0, 0, the origin."
   ]
  },
  {
   "cell_type": "code",
   "execution_count": null,
   "metadata": {},
   "outputs": [],
   "source": []
  },
  {
   "cell_type": "markdown",
   "metadata": {},
   "source": [
    "2. Create and label 4 separate charts for the following equations (choose a range for x that makes sense):\n",
    "\n",
    "y=√x\n",
    "y=x^3\n",
    "y=2^x\n",
    "y=1/(x+1)\n",
    "You can use functions from the math module to help implement some of the equations above."
   ]
  },
  {
   "cell_type": "markdown",
   "metadata": {},
   "source": [
    "3. Combine the figures you created in the last step into one large figure with 4 subplots."
   ]
  },
  {
   "cell_type": "markdown",
   "metadata": {},
   "source": [
    "4. Combine the figures you created in the last step into one figure where each of the 4 equations has a different color for the points. Be sure to include a legend and an appropriate title for the figure."
   ]
  },
  {
   "cell_type": "markdown",
   "metadata": {},
   "source": [
    "5. Make a new Jupyter notebook named big_o_notation.ipynb\n",
    "\n",
    "Title your chart \"Big O Notation\"\n",
    "Label your x axis \"Elements\"\n",
    "Label your y axis \"Operations\"\n",
    "Label your curves or make a legend for the curves\n",
    "Use LaTex notation where possible\n",
    "Curves to graph\n",
    "\n",
    "y=0n+1\n",
    " and label the curve \"O(1)\"\n",
    "y=log(n) and label the curve \"O(log n)\"\n",
    "y=n and label the curve \"O(n)\"\n",
    "y=n∗log(n) and label it \"O(n log n)\"\n",
    "y=n^2 and label it \"O(n^2)\"\n",
    "y=2^n and label it \"O(2^n)\"\n",
    "y=n! and label it \"O(n!)\"\n",
    "y=n^n and label it \"O(n^n)\""
   ]
  },
  {
   "cell_type": "code",
   "execution_count": null,
   "metadata": {},
   "outputs": [],
   "source": []
  }
 ],
 "metadata": {
  "kernelspec": {
   "display_name": "Python 3",
   "language": "python",
   "name": "python3"
  },
  "language_info": {
   "codemirror_mode": {
    "name": "ipython",
    "version": 3
   },
   "file_extension": ".py",
   "mimetype": "text/x-python",
   "name": "python",
   "nbconvert_exporter": "python",
   "pygments_lexer": "ipython3",
   "version": "3.8.5"
  }
 },
 "nbformat": 4,
 "nbformat_minor": 4
}
